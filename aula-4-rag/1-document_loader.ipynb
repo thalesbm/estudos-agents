{
 "cells": [
  {
   "cell_type": "code",
   "execution_count": 1,
   "metadata": {},
   "outputs": [],
   "source": [
    "from langchain_community.document_loaders.pdf import PyPDFLoader\n",
    "\n",
    "arquivo = \"files/apostila.pdf\"\n",
    "loader = PyPDFLoader(arquivo)\n",
    "documentos = loader.load()"
   ]
  },
  {
   "cell_type": "code",
   "execution_count": 2,
   "metadata": {},
   "outputs": [
    {
     "data": {
      "text/plain": [
       "28"
      ]
     },
     "execution_count": 2,
     "metadata": {},
     "output_type": "execute_result"
    }
   ],
   "source": [
    "len(documentos)"
   ]
  },
  {
   "cell_type": "code",
   "execution_count": 3,
   "metadata": {},
   "outputs": [
    {
     "data": {
      "text/plain": [
       "Document(page_content=' \\n  \\n \\n \\n \\n \\n \\n \\n \\n \\nINTRODUÇÃO À PROGRAMAÇÃO \\nCOM PYTHON  \\n \\n \\n \\n \\n \\n \\n \\nPrograma de Educação Tutorial  \\nGrupo PET - ADS    \\nIFSP -  Câmpus São Carlos  \\n \\n \\n \\n \\n \\n  ', metadata={'source': 'files/apostila.pdf', 'page': 0})"
      ]
     },
     "execution_count": 3,
     "metadata": {},
     "output_type": "execute_result"
    }
   ],
   "source": [
    "documentos[0]"
   ]
  },
  {
   "cell_type": "code",
   "execution_count": 4,
   "metadata": {},
   "outputs": [
    {
     "data": {
      "text/plain": [
       "'3 \\n 2. Digite o comando sudo  apt-get install  python3.4 no terminal do GNU/Linux para inicializar \\no processo de instalação.  \\n \\n \\n \\n3. Terminado o download , o interpretador já estará instalado no  computador.  \\n \\n \\n \\n \\nb) Instalação  do IDLE  no Linux  \\n \\nO IDLE é um ambiente in tegrado de desenvolvimento  que acompanha a instalação do interpretador \\nPython em sistemas operacionais Windows. Para tê -lo disponível em distribuições Linux basta \\nseguir as e tapas abaixo:  \\n \\n1. Acesse o t erminal Linux . \\n \\n \\n \\n2. Digite o comando sudo  apt-get install idle-python3.4 . \\n \\n \\n \\n3. Para executá -lo basta digitar no terminal idle-python3.4 & . \\n \\n \\n \\n \\n'"
      ]
     },
     "execution_count": 4,
     "metadata": {},
     "output_type": "execute_result"
    }
   ],
   "source": [
    "documentos[5].page_content"
   ]
  },
  {
   "cell_type": "code",
   "execution_count": 5,
   "metadata": {},
   "outputs": [],
   "source": [
    "from langchain.chains.question_answering import load_qa_chain\n",
    "from langchain_openai.chat_models import ChatOpenAI\n",
    "\n",
    "chat = ChatOpenAI(model=\"gpt-3.5-turbo-0125\")\n",
    "\n",
    "chain = load_qa_chain(llm=chat, chain_type=\"stuff\", verbose=True)"
   ]
  },
  {
   "cell_type": "code",
   "execution_count": 6,
   "metadata": {},
   "outputs": [
    {
     "name": "stdout",
     "output_type": "stream",
     "text": [
      "\n",
      "\n",
      "\u001b[1m> Entering new StuffDocumentsChain chain...\u001b[0m\n",
      "\n",
      "\n",
      "\u001b[1m> Entering new LLMChain chain...\u001b[0m\n",
      "Prompt after formatting:\n",
      "\u001b[32;1m\u001b[1;3mSystem: Use the following pieces of context to answer the user's question. \n",
      "If you don't know the answer, just say that you don't know, don't try to make up an answer.\n",
      "----------------\n",
      " \n",
      "  \n",
      " \n",
      " \n",
      " \n",
      " \n",
      " \n",
      " \n",
      " \n",
      " \n",
      "INTRODUÇÃO À PROGRAMAÇÃO \n",
      "COM PYTHON  \n",
      " \n",
      " \n",
      " \n",
      " \n",
      " \n",
      " \n",
      " \n",
      "Programa de Educação Tutorial  \n",
      "Grupo PET - ADS    \n",
      "IFSP -  Câmpus São Carlos  \n",
      " \n",
      " \n",
      " \n",
      " \n",
      " \n",
      "  \n",
      "\n",
      " \n",
      "  \n",
      "Sumário  \n",
      "PREFÁCIO  ................................ ................................ ................................ ........................  1 \n",
      "1. INTRODUÇÃO  ................................ ................................ ................................ ..............  2 \n",
      "1.1 Característi cas da linguagem Python  ................................ ................................ ..... 2 \n",
      "1.2 Instalação do interpretador Python  ................................ ................................ .......  2 \n",
      "2. VARIÁVEIS  ................................ ................................ ................................ ...................  4 \n",
      "3. STRINGS  ................................ ................................ ................................ ......................  6 \n",
      "3.1 Concatenação d e strings  ................................ ................................ ........................  6 \n",
      "3.2 Manipulação de strings  ................................ ................................ ..........................  7 \n",
      "3.3 Fatiamento de strings  ................................ ................................ ............................  8 \n",
      "3.4 Exercícios: strings  ................................ ................................ ................................ .. 8 \n",
      "4. NÚMEROS  ................................ ................................ ................................ ...................  9 \n",
      "4.1 Operadores numéricos  ................................ ................................ ..........................  9 \n",
      "4.2 Exercícios: números  ................................ ................................ ...............................  9 \n",
      "5. LISTAS  ................................ ................................ ................................ .......................  10 \n",
      "5.1 Funções para manipulação de listas  ................................ ................................ .... 10 \n",
      "5.2 Operações com listas  ................................ ................................ ...........................  11 \n",
      "5.3 Fatiamento de listas  ................................ ................................ ............................  11 \n",
      "5.4 Criação de listas com range ( )  ................................ ................................ .............  12 \n",
      "5.5 Exercícios: listas  ................................ ................................ ................................ ... 12 \n",
      "6. TUPLAS  ................................ ................................ ................................ .....................  13 \n",
      "7. DICIONÁRIOS  ................................ ................................ ................................ ............  13 \n",
      "7.1 Operações em dicionários  ................................ ................................ ...................  14 \n",
      "7.2 Exercícios: dicionários  ................................ ................................ ..........................  14 \n",
      "8. BIBLIOTECAS  ................................ ................................ ................................ .............  15 \n",
      "9. ESTRUTURAS DE DECISÃO  ................................ ................................ .........................  15 \n",
      "9.1 Estrutura if  ................................ ................................ ................................ ...........  16 \n",
      "9.2 Estrutura if..else  ................................ ................................ ................................ .. 16 \n",
      "9.3 Comando  if..elif ..else  ................................ ................................ ...........................  16 \n",
      "9.4 Exercícios: estruturas de decisão  ................................ ................................ .........  17 \n",
      "\n",
      " \n",
      " 10. ESTRUTURAS DE REPETIÇÃO  ................................ ................................ ...................  17 \n",
      "10.1 Laço while  ................................ ................................ ................................ ..........  17 \n",
      "10.2 Laço for  ................................ ................................ ................................ ..............  18 \n",
      "10.3 Exercício s: estrutura de repetição ................................ ................................ ...... 19 \n",
      "11. FUNÇÕES  ................................ ................................ ................................ ................  19 \n",
      "11.1 Como definir uma função  ................................ ................................ ..................  19 \n",
      "11.2 Parâmetros e argumentos  ................................ ................................ .................  19 \n",
      "11.3 Escopo das variáveis  ................................ ................................ ..........................  20 \n",
      "11.4 Retorno de valores  ................................ ................................ ............................  20 \n",
      "11.5  Valor padrão  ................................ ................................ ................................ ...... 21 \n",
      "11.6 Exercícios: funções ................................ ................................ .............................  21 \n",
      "12. RESPOSTAS DOS EXERCÍCIOS  ................................ ................................ ...................  22 \n",
      "BIBLIOGRAFIA  ................................ ................................ ................................ ...............  25 \n",
      " \n",
      " \n",
      "\n",
      "1 \n",
      " PREFÁCIO  \n",
      " \n",
      "Este material foi escrito para ser utilizado em cursos de extensão de  Introdução à \n",
      "Programação com Python , do Instituto Federal de Educação, Ciência e Tecnologia de \n",
      "São Paulo , câmpus São Carlos.  \n",
      "A apostila foi desenvolvida pelo s integrantes do Programa de Educação Tutorial do curso \n",
      "de Tecnologia em Análise e Desenvolvimento de Sistemas - grupo PET ADS  / IFSP  São \n",
      "Carlos. O grupo iniciou suas atividades em 2011 , e realiza atividades diversas  envolvendo \n",
      "Ensino, Pesquisa e Extensão.  Entre as linguagens e ferramentas de programação estudadas \n",
      "pelo grupo estão : o ambiente de desenvolvimento Lazarus, o editor de jogos Construct 2, as \n",
      "linguagens Ruby, Python e JavaScript, os frameworks Rails, Django, Web2Py e Grails.  \n",
      "A linguagem Python s e destacou pela facilidade de programação e versatilidade. Python é \n",
      "uma linguagem de uso geral, que pode ser utilizada para diversas aplicações. Apresenta \n",
      "uma sintaxe simples, tornando os programas mais legíveis, o que também facilita o \n",
      "aprendizado da ling uagem. Possui listas, dicionários e tuplas como estruturas de dados \n",
      "pré-definidas. É uma linguagem multiparadigma: suporta os paradigmas de programação \n",
      "procedural, funcional e orientado a objetos.  \n",
      "Diversos petianos colaboraram na confecção desta apostila.  Mas gostaria de agradecer \n",
      "especialmente quatro estudantes que se destacaram pelo empenho e dedicação na \n",
      "execução dessa tarefa: José Picharillo, Lucas Limão, Viviane Quinaia e Camila Couto.   \n",
      "Este é um material de apoio para um curso de extensão introdutório, cujo objetivo é \n",
      "divulgar a linguagem Python. Não é um material preparado para autoaprendizagem, \n",
      "embora seja possível utilizá -lo com esse fim.  \n",
      "Reforçando, este é um material introdutório. Tem muit o mais  para aprender em Python: \n",
      "orientação a objetos, programação funcional, metaprogramação, interface gráfica, \n",
      "expressões regulares, threads, tratamento de exceções, funções anônimas, geradores, \n",
      "desenvolvimento web, aplicativos móveis, entre outr as.  \n",
      "Bem -vindo ao mundo Python!  \n",
      " \n",
      " \n",
      " \n",
      "Prof. Dr. João Luiz Franco  \n",
      "Tutor do grupo PET - ADS  / São Carlos  \n",
      "  \n",
      "\n",
      "2 \n",
      "  \n",
      "1. INTRODUÇÃO  \n",
      " \n",
      "1.1 Características da l inguagem Python  \n",
      " \n",
      "A linguagem de programação Python  foi criada  em 1991  por Guido V an Rossum em, com a \n",
      "finalidade de ser uma linguagem simpl es e de fácil compreensão. Ape sar de simples, Python é uma \n",
      "linguagem muito poderosa, que pode ser usada para desenvolver e administrar grandes sistemas.  \n",
      " \n",
      "Uma das principais características que diferenci a a linguagem Python das outras  é a legibilidade dos \n",
      "programas escritos . Isto ocorre porque , em outras linguagens , é muito comum o uso  excess ivo de \n",
      "marcações (p onto ou ponto e vírgula ), de marcadores ( chaves, colchetes ou parêntes es) e de \n",
      "palavras especiais  (begin/end), o que torna mais  difícil a leitura e compreensão dos programas. Já \n",
      "em Python, o uso desses recursos é reduzido, deixando  a linguagem visualmente mais limpa, de \n",
      "fácil compreensão e leitura.  \n",
      " \n",
      "Entre outras características existentes n a linguagem P ython, destaca -se a simplicidade da \n",
      "linguagem, que facilita o aprend izado  da programa ção. Python também possui uma portabilidade \n",
      "muito grande para diversas plataformas diferentes, além de ser possível utilizar trechos de código s \n",
      "em outras linguagens . \n",
      " \n",
      "Python é um software livre, ou se ja, permite  que usuários e colaboradores possam modificar seu \n",
      "código fonte  e compartilhar essas novas atualizações , contribuindo  para o constante  \n",
      "aperfeiçoamento  da linguagem.  A especificação da linguagem é mantida pela empresa Python \n",
      "Software Foundation  (PSF).  \n",
      " \n",
      " \n",
      "1.2 Instalação do i nterpretador Python  \n",
      " \n",
      "a) Instala ção de  Python  no Linux  \n",
      " \n",
      "Nas versões mais recentes do GNU/Linux , o Python já se encontra instalado , bastando ao \n",
      "programador entrar no terminal e digitar python . Caso não esteja , segue m os passos para a \n",
      "instalaç ão no terminal : \n",
      " \n",
      "1. Acesse o terminal Linux.  \n",
      " \n",
      " \n",
      " \n",
      " \n",
      "\n",
      "\n",
      "3 \n",
      " 2. Digite o comando sudo  apt-get install  python3.4 no terminal do GNU/Linux para inicializar \n",
      "o processo de instalação.  \n",
      " \n",
      " \n",
      " \n",
      "3. Terminado o download , o interpretador já estará instalado no  computador.  \n",
      " \n",
      " \n",
      " \n",
      " \n",
      "b) Instalação  do IDLE  no Linux  \n",
      " \n",
      "O IDLE é um ambiente in tegrado de desenvolvimento  que acompanha a instalação do interpretador \n",
      "Python em sistemas operacionais Windows. Para tê -lo disponível em distribuições Linux basta \n",
      "seguir as e tapas abaixo:  \n",
      " \n",
      "1. Acesse o t erminal Linux . \n",
      " \n",
      " \n",
      " \n",
      "2. Digite o comando sudo  apt-get install idle-python3.4 . \n",
      " \n",
      " \n",
      " \n",
      "3. Para executá -lo basta digitar no terminal idle-python3.4 & . \n",
      " \n",
      " \n",
      " \n",
      " \n",
      "\n",
      "\n",
      "4 \n",
      " c) Instala ção do  Python  no Windows  \n",
      " \n",
      "A instalação do interpretador Python para Windows é mais simples,  conforme apresentado a seguir : \n",
      " \n",
      "1. Entre no site www.python.org . Na aba  download  selecione  a versão 3.5.1 . \n",
      " \n",
      "2. Após o download , execute o instalador mantendo , por default , todas as configurações a cada \n",
      "passo da instalação. Depois clique em Finalizar  e o interpretador Python já est ará instalado \n",
      "no computador.  \n",
      " \n",
      "Caso  você não consiga  execut ar o interpretador Python pelo prompt de comando , provavelmente o \n",
      "path não está configurado. Veja abaixo os passos para configurá -lo: \n",
      " \n",
      "1. Com o cursor do mouse vá até Computador , clique  com o botão direito e escolha \n",
      "Propriedades . \n",
      " \n",
      "2. Depois clique em Configurações avançadas do sistema  e, a seguir , Variáveis  de ambiente . \n",
      " \n",
      "3. Com ajuda  da barra de rolagem  procure a  variável chamada path, selecion e-a e escolha a \n",
      "opção Editar . \n",
      " \n",
      "4. Na próxima janela , no campo Valor de variável , você irá encontrar uma lista contendo \n",
      "vários paths  de outros programas. Para adicionar um novo path, vá até o final da lista e \n",
      "acrescente um ponto e vírgula  ( ; ). Depois disso , copie  o endereço da pasta onde se \n",
      "enco ntra instalado o interpretador P ython e c ole após ponto e vírgula . \n",
      " \n",
      " \n",
      "2. V ARIÁVEIS  \n",
      " \n",
      "Variáveis são pequenos espaços de memória, utilizados para armazenar e manipular dados. Em \n",
      "Python, os tipos de dados básicos  são:  tipo inteiro (armazena números inteiros ), tipo float (armazena \n",
      "números em formato decimal ), e tipo string (armazena um conjun to de caracteres). Cada variável \n",
      "pode armazenar apenas um tipo de dado  a cada instante . \n",
      " \n",
      "Em Python, diferente mente  de outras linguagens de programação, não é preciso declarar de que tipo \n",
      "será cada v ariável no início do programa. Q uando se faz uma atribuição  de valor , automaticamente a \n",
      "variável se torna do tipo do valor armazenado, como apresentado  nos exemplos a seguir :  \n",
      " \n",
      "Exemplos:  \n",
      " \n",
      "A variável a se torna uma variável do tipo inteiro.  \n",
      "\n",
      "\n",
      "5 \n",
      "  \n",
      "A variável b se torna uma variável do tipo float.  \n",
      " \n",
      "A variável c se torna  uma variável do tipo string.  \n",
      " \n",
      "A atribuição de valor para uma variável pode ser feita utiliza ndo o comando input( ), que \n",
      "solicita ao usuário o valor a  ser atribuído à variável . \n",
      " \n",
      "Exemplo:  \n",
      " \n",
      " \n",
      " \n",
      "O comando input() , sempre vai retornar uma s tring. Nesse caso, para retornar dados do tipo \n",
      "inteiro ou float, é preciso converter o tipo do valor lido . Para isso, utiliza -se o int (string ) para \n",
      "converter para o  tipo inteiro, ou float  (string ) para converter para o  tipo float.  \n",
      " \n",
      " \n",
      "Exemplo s: \n",
      " \n",
      " \n",
      " \n",
      " \n",
      " \n",
      "Em Python, os nomes da s variáveis devem ser inicia dos com uma letra, mas podem possuir outros \n",
      "tipos de caracteres , como números e símbolos. O símbolo sublinha ( _ ) também é aceito no início \n",
      "de nomes de variáveis.  \n",
      " \n",
      " \n",
      "\n",
      "Human: Do que se trata esse documento?\u001b[0m\n",
      "\n",
      "\u001b[1m> Finished chain.\u001b[0m\n",
      "\n",
      "\u001b[1m> Finished chain.\u001b[0m\n"
     ]
    },
    {
     "data": {
      "text/plain": [
       "'Esse documento é uma apostila ou material de apoio para um curso de extensão de Introdução à Programação com Python. Foi desenvolvido pelos integrantes do Programa de Educação Tutorial do curso de Tecnologia em Análise e Desenvolvimento de Sistemas - grupo PET ADS do IFSP - Câmpus São Carlos. A apostila aborda desde conceitos básicos da linguagem Python até estruturas de decisão, repetição, funções, e instalação do interpretador Python em diferentes sistemas operacionais.'"
      ]
     },
     "execution_count": 6,
     "metadata": {},
     "output_type": "execute_result"
    }
   ],
   "source": [
    "pergunta = \"Do que se trata esse documento?\"\n",
    "chain.run(input_documents=documentos[:8], question=pergunta)"
   ]
  },
  {
   "cell_type": "markdown",
   "metadata": {},
   "source": [
    "### Carregamento Arquivo CSV"
   ]
  },
  {
   "cell_type": "code",
   "execution_count": 7,
   "metadata": {},
   "outputs": [],
   "source": [
    "from langchain_community.document_loaders.csv_loader import CSVLoader\n",
    "\n",
    "arquivo = \"files/imdb_movies.csv\"\n",
    "loader = CSVLoader(arquivo)\n",
    "documentos = loader.load()"
   ]
  },
  {
   "cell_type": "code",
   "execution_count": 8,
   "metadata": {},
   "outputs": [
    {
     "data": {
      "text/plain": [
       "Document(page_content=': 5\\nMovie Name: The Godfather: Part II\\nYear of Release: (1974)\\nWatch Time: 202 min\\nMovie Rating: 9.0\\nMeatscore of movie: 90\\nVotes: 34,709\\nGross: $57.30M\\nDescription: The early life and career of Vito Corleone in 1920s New York City is portrayed, while his son, Michael, expands and tightens his grip on the family crime syndicate.', metadata={'source': 'files/imdb_movies.csv', 'row': 5})"
      ]
     },
     "execution_count": 8,
     "metadata": {},
     "output_type": "execute_result"
    }
   ],
   "source": [
    "documentos[5]"
   ]
  },
  {
   "cell_type": "code",
   "execution_count": 9,
   "metadata": {},
   "outputs": [
    {
     "data": {
      "text/plain": [
       "1000"
      ]
     },
     "execution_count": 9,
     "metadata": {},
     "output_type": "execute_result"
    }
   ],
   "source": [
    "len(documentos)"
   ]
  },
  {
   "cell_type": "code",
   "execution_count": 10,
   "metadata": {},
   "outputs": [
    {
     "data": {
      "text/plain": [
       "{'source': 'files/imdb_movies.csv', 'row': 80}"
      ]
     },
     "execution_count": 10,
     "metadata": {},
     "output_type": "execute_result"
    }
   ],
   "source": [
    "documentos[80].metadata"
   ]
  },
  {
   "cell_type": "code",
   "execution_count": 11,
   "metadata": {},
   "outputs": [
    {
     "name": "stdout",
     "output_type": "stream",
     "text": [
      "\n",
      "\n",
      "\u001b[1m> Entering new StuffDocumentsChain chain...\u001b[0m\n",
      "\n",
      "\n",
      "\u001b[1m> Entering new LLMChain chain...\u001b[0m\n",
      "Prompt after formatting:\n",
      "\u001b[32;1m\u001b[1;3mSystem: Use the following pieces of context to answer the user's question. \n",
      "If you don't know the answer, just say that you don't know, don't try to make up an answer.\n",
      "----------------\n",
      ": 0\n",
      "Movie Name: The Shawshank Redemption\n",
      "Year of Release: (1994)\n",
      "Watch Time: 142 min\n",
      "Movie Rating: 9.3\n",
      "Meatscore of movie: 81\n",
      "Votes: 34,709\n",
      "Gross: $28.34M\n",
      "Description: Two imprisoned men bond over a number of years, finding solace and eventual redemption through acts of common decency.\n",
      "\n",
      ": 1\n",
      "Movie Name: The Godfather\n",
      "Year of Release: (1972)\n",
      "Watch Time: 175 min\n",
      "Movie Rating: 9.2\n",
      "Meatscore of movie: 100\n",
      "Votes: 34,709\n",
      "Gross: $134.97M\n",
      "Description: The aging patriarch of an organized crime dynasty in postwar New York City transfers control of his clandestine empire to his reluctant youngest son.\n",
      "\n",
      ": 2\n",
      "Movie Name: The Dark Knight\n",
      "Year of Release: (2008)\n",
      "Watch Time: 152 min\n",
      "Movie Rating: 9.0\n",
      "Meatscore of movie: 84\n",
      "Votes: 34,709\n",
      "Gross: $534.86M\n",
      "Description: When the menace known as the Joker wreaks havoc and chaos on the people of Gotham, Batman must accept one of the greatest psychological and physical tests of his ability to fight injustice.\n",
      "\n",
      ": 3\n",
      "Movie Name: The Lord of the Rings: The Return of the King\n",
      "Year of Release: (2003)\n",
      "Watch Time: 201 min\n",
      "Movie Rating: 9.0\n",
      "Meatscore of movie: 94\n",
      "Votes: 34,709\n",
      "Gross: $377.85M\n",
      "Description: Gandalf and Aragorn lead the World of Men against Sauron's army to draw his gaze from Frodo and Sam as they approach Mount Doom with the One Ring.\n",
      "\n",
      ": 4\n",
      "Movie Name: Schindler's List\n",
      "Year of Release: (1993)\n",
      "Watch Time: 195 min\n",
      "Movie Rating: 9.0\n",
      "Meatscore of movie: 94\n",
      "Votes: 34,709\n",
      "Gross: $96.90M\n",
      "Description: In German-occupied Poland during World War II, industrialist Oskar Schindler gradually becomes concerned for his Jewish workforce after witnessing their persecution by the Nazis.\n",
      "\n",
      ": 5\n",
      "Movie Name: The Godfather: Part II\n",
      "Year of Release: (1974)\n",
      "Watch Time: 202 min\n",
      "Movie Rating: 9.0\n",
      "Meatscore of movie: 90\n",
      "Votes: 34,709\n",
      "Gross: $57.30M\n",
      "Description: The early life and career of Vito Corleone in 1920s New York City is portrayed, while his son, Michael, expands and tightens his grip on the family crime syndicate.\n",
      "\n",
      ": 6\n",
      "Movie Name: 12 Angry Men\n",
      "Year of Release: (1957)\n",
      "Watch Time: 96 min\n",
      "Movie Rating: 9.0\n",
      "Meatscore of movie: 96\n",
      "Votes: 34,709\n",
      "Gross: $4.36M\n",
      "Description: The jury in a New York City murder trial is frustrated by a single member whose skeptical caution forces them to more carefully consider the evidence before jumping to a hasty verdict.\n",
      "\n",
      ": 7\n",
      "Movie Name: Jai Bhim\n",
      "Year of Release: (2021)\n",
      "Watch Time: 164 min\n",
      "Movie Rating: 8.9\n",
      "Meatscore of movie: ****\n",
      "Votes: 34,709\n",
      "Gross: #248\n",
      "Description: When a tribal man is arrested for a case of alleged theft, his wife turns to a human-rights lawyer to help bring justice.\n",
      "\n",
      ": 8\n",
      "Movie Name: Pulp Fiction\n",
      "Year of Release: (1994)\n",
      "Watch Time: 154 min\n",
      "Movie Rating: 8.9\n",
      "Meatscore of movie: 94\n",
      "Votes: 34,709\n",
      "Gross: $107.93M\n",
      "Description: The lives of two mob hitmen, a boxer, a gangster and his wife, and a pair of diner bandits intertwine in four tales of violence and redemption.\n",
      "\n",
      ": 9\n",
      "Movie Name: Inception\n",
      "Year of Release: (2010)\n",
      "Watch Time: 148 min\n",
      "Movie Rating: 8.8\n",
      "Meatscore of movie: 74\n",
      "Votes: 34,709\n",
      "Gross: $292.58M\n",
      "Description: A thief who steals corporate secrets through the use of dream-sharing technology is given the inverse task of planting an idea into the mind of a C.E.O., but his tragic past may doom the project and his team to disaster.\n",
      "Human: Qual filme com menor e maior metascore?\u001b[0m\n",
      "\n",
      "\u001b[1m> Finished chain.\u001b[0m\n",
      "\n",
      "\u001b[1m> Finished chain.\u001b[0m\n"
     ]
    },
    {
     "data": {
      "text/plain": [
       "'O filme com o menor Meatscore é \"Jai Bhim\" e o filme com o maior Meatscore é \"The Godfather\".'"
      ]
     },
     "execution_count": 11,
     "metadata": {},
     "output_type": "execute_result"
    }
   ],
   "source": [
    "pergunta = \"Qual filme com menor e maior metascore?\"\n",
    "chain.run(input_documents=documentos[:10], question=pergunta)"
   ]
  },
  {
   "cell_type": "markdown",
   "metadata": {},
   "source": [
    "### Carregando Vídeos do Youtube"
   ]
  },
  {
   "cell_type": "code",
   "execution_count": 12,
   "metadata": {},
   "outputs": [],
   "source": [
    "from langchain_community.document_loaders.generic import GenericLoader\n",
    "from langchain_community.document_loaders.blob_loaders.youtube_audio import YoutubeAudioLoader\n",
    "from langchain.document_loaders.parsers import OpenAIWhisperParser"
   ]
  },
  {
   "cell_type": "code",
   "execution_count": 13,
   "metadata": {},
   "outputs": [
    {
     "name": "stdout",
     "output_type": "stream",
     "text": [
      "[youtube] Extracting URL: https://www.youtube.com/watch?v=ox3-BEfHHnk&t=16s\n",
      "[youtube] ox3-BEfHHnk: Downloading webpage\n",
      "[youtube] ox3-BEfHHnk: Downloading ios player API JSON\n",
      "[youtube] ox3-BEfHHnk: Downloading android player API JSON\n",
      "[youtube] ox3-BEfHHnk: Downloading player 6e1dd460\n"
     ]
    },
    {
     "name": "stderr",
     "output_type": "stream",
     "text": [
      "WARNING: [youtube] ox3-BEfHHnk: nsig extraction failed: You may experience throttling for some formats\n",
      "         n = ppcB0uw93EZFWnwLu ; player = https://www.youtube.com/s/player/6e1dd460/player_ias.vflset/en_US/base.js\n",
      "WARNING: [youtube] ox3-BEfHHnk: nsig extraction failed: You may experience throttling for some formats\n",
      "         n = TD-IVI83msjJvLkz6 ; player = https://www.youtube.com/s/player/6e1dd460/player_ias.vflset/en_US/base.js\n"
     ]
    },
    {
     "name": "stdout",
     "output_type": "stream",
     "text": [
      "[youtube] ox3-BEfHHnk: Downloading m3u8 information\n",
      "[info] ox3-BEfHHnk: Downloading 1 format(s): 140\n",
      "[download] Destination: files\\youtube\\Crie 3 Apps Simples com Python Usando a Biblioteca Gradio.m4a\n",
      "[download] 100% of   23.05MiB in 00:00:04 at 5.65MiB/s     \n",
      "[FixupM4a] Correcting container of \"files\\youtube\\Crie 3 Apps Simples com Python Usando a Biblioteca Gradio.m4a\"\n",
      "[ExtractAudio] Not converting audio files\\youtube\\Crie 3 Apps Simples com Python Usando a Biblioteca Gradio.m4a; file is already in target format m4a\n",
      "Transcribing part 1!\n",
      "Transcribing part 2!\n"
     ]
    }
   ],
   "source": [
    "url = \"https://www.youtube.com/watch?v=ox3-BEfHHnk&t=16s\"\n",
    "save_dir = \"files/youtube\"\n",
    "loader = GenericLoader(\n",
    "    YoutubeAudioLoader([url], save_dir),\n",
    "    OpenAIWhisperParser()\n",
    ")\n",
    "docs = loader.load()"
   ]
  },
  {
   "cell_type": "code",
   "execution_count": 14,
   "metadata": {},
   "outputs": [
    {
     "data": {
      "text/plain": [
       "2"
      ]
     },
     "execution_count": 14,
     "metadata": {},
     "output_type": "execute_result"
    }
   ],
   "source": [
    "len(docs)"
   ]
  },
  {
   "cell_type": "code",
   "execution_count": 15,
   "metadata": {},
   "outputs": [
    {
     "data": {
      "text/plain": [
       "'até o presente momento nós abordamos os tópicos que são fundamentais ali na programação com a linguagem python principalmente na parte fundamental seja o fundamento seja os módulos orientação objetos '"
      ]
     },
     "execution_count": 15,
     "metadata": {},
     "output_type": "execute_result"
    }
   ],
   "source": [
    "docs[0].page_content[:200]"
   ]
  },
  {
   "cell_type": "code",
   "execution_count": 16,
   "metadata": {},
   "outputs": [
    {
     "name": "stdout",
     "output_type": "stream",
     "text": [
      "\n",
      "\n",
      "\u001b[1m> Entering new StuffDocumentsChain chain...\u001b[0m\n",
      "\n",
      "\n",
      "\u001b[1m> Entering new LLMChain chain...\u001b[0m\n",
      "Prompt after formatting:\n",
      "\u001b[32;1m\u001b[1;3mSystem: Use the following pieces of context to answer the user's question. \n",
      "If you don't know the answer, just say that you don't know, don't try to make up an answer.\n",
      "----------------\n",
      "até o presente momento nós abordamos os tópicos que são fundamentais ali na programação com a linguagem python principalmente na parte fundamental seja o fundamento seja os módulos orientação objetos banco de dados e assim por diante eu acredito que você ficou pensando bem seria mais fácil de assimilar os conteúdos se eu utilizasse uma interface gráfica e bem nós temos alguns exemplos de interface gráfica que no curso né como tkinter, streetlit, flat e outras bibliotecas também ok e aí porque então falar de Gradle o Gradle é a biblioteca que eu deixei para explicar sobre ela e ter uma sessão específica sobre ela porque ainda que seja uma biblioteca não tão popular assim mas de todas as que a gente teve até aqui no curso é a mais simples bom você vai ver que a gente vai conseguir construir aplicações web com interfaces interessantes de forma bem simples tá e é uma forma inclusive de tentar entender um pouco mais os conceitos do Python utilizando uma estrutura que forneça uma interface de usuário pra gente bom então a ideia dessa aula é conhecer um pouco sobre essa biblioteca assim como streetlit né o propósito dela seria para construir e compartilhar aplicações focadas em Machine Learning tá bom e eu tenho que te dizer o seguinte a gente não vai trabalhar com Machine Learning nessa sessão o objetivo é construir aplicações gerais do Python tá bom a gente vai incluir ainda o conhecimento o conteúdo de Machine Learning aqui no curso porém nós já temos uma sessão no momento que eu gravo aqui esta aula nós já temos uma sessão aqui no curso focada em Hugging Facing que é uma plataforma que permite nós construirmos aplicações inteligentes seja na área de visão computacional seja na área de processamento de linguagem natural e aí nesses dois nossas duas sessões a gente acaba utilizando o Gradle para criar uma interface de usuário para o modelo que a gente está construindo lá seja em visão computacional seja em processamento de linguagem natural tá bom então além dessa sessão aqui do Gradle a gente tem conteúdo do Gradle espalhado aí nestas sessões que falamos sobre o Hugging Face ok beleza então vamos conhecer um pouco mais sobre o Gradle olha só a simplicidade né você tem aqui uma uma função que basicamente ele espera um nome como parâmetro e aí você cria uma interface passa o nome da sua função o input que é um texto e o output que é um texto então eu vou digitar aqui Rodrigo vou enviar o Submit Hello Rodrigo se eu alterar aqui pra fulano vou enviar o Submit e ele enviou aqui Submit também tá fácil e simples como você pode conferir aqui tá bom além disso né tem outros exemplos que a gente tem também como o AirBnB Map vamos ver se ele carrega aqui olha carregou aqui o AirBnB do Map né trouxe aqui algumas informações é Stream Chatbot ele traz aqui as informações também você pode conversar com ele, Diffuse Faces e outros exemplos que você pode explorar um pouco mais aí acessando o site tá bom pode gerar imagens aqui e ele pode você pode clicar aqui mais imagens para ele gerar aqui também tá bom beleza né então é fácil de construir é rápido né tem a possibilidade de você compartilhar suas aplicações você pode hospedar as aplicações do Gradle no Hugging Face Spaces então esse ecossistema de dados né Hugging Face, Inteligência Artificial tem feito com que o Gradle se torne uma biblioteca ainda mais popular tá bom ela não é tão popular quanto o Strelitz e outras bibliotecas mas aos poucos né ela vai conseguindo ganhar o seu o seu pedaço aí no mercado e vai se tornando cada vez mais famosa tá bom mas beleza vou clicar aqui no Quick Start e existem aqui alguns exemplos né você pode verificar aqui o Quick Start construindo seu primeiro exemplo né tem aqui mais informações aqui na documentação chatbots enfim né vou voltar aqui aqui nós temos a parte de documentação então a documentação aqui a gente vai focar no Gradle focando na linguagem Python tá e aí você tem aqui as possibilidades você pode clicar aqui neles depois tem aqui o Playground, Playground ele gera alguns exemplos aqui do lado esquerdo e do lado direito aqui o preview então tem vários exemplos já aqui na parte de mídia, filters, sepia e assim por diante tem a parte de componentes customizados que assim como lá no Strelitz a gente tem também a gente pode utilizar esses componentes customizados tá e acessar um pouco mais informações sobre eles né e aí tem a comunidade aqui também tá bom então é a ideia é basicamente mostrar que ao longo dessa sessão na prática né como a gente pode incluir o Gradle dentro dos nossos projetos e aí pensando nisso eu já vou vir aqui ó eu vou criar uma pasta vazia do Gradle que eu já fiz aqui vou abrir o Visual Studio Code e eu vou abrir essa pasta aqui dentro do Visual Studio Code tá bom então tá aqui o Visual Studio Code vou abrir essa pasta aqui dentro beleza então no terminal primeiramente a gente precisa instalar essa biblioteca tá para instalar pip install gradle vou dar um enter mostrar aqui explicar que também né na sessão atual que é essa sessão que eu estou gravando aqui essa aula a gente não vai focar ainda na parte da produção né pegar um aplicativo e colocar em deploy em produção mas se você ir mais adiante aqui no curso né lá focando ali nos modelos de visão computacional do Hugging Face lá vai ter um laboratório em que eu vou criar uma aplicação web com o Gradle e vamos hospedar essa aplicação web com o Hugging Face Spaces tá bom então é uma excelente forma de você entender como fazer o deploy de uma aplicação Gradle de forma gratuita e bem rápido tá bom bem enquanto eu estava explicando a biblioteca foi instalada e perfeito tá tendo instalado o Gradle a gente já está apto para começar o desenvolvimento nessa biblioteca e vamos fazer isso então a partir da próxima aula vamos começar nessa aula desenvolvendo algumas aplicações com o Gradle a ideia é bem simples basicamente a gente vai criar três aplicações primeiramente três funções uma foca focado ali em uma função que vai somar dois números a outra relacionada a gente conseguir inverter um texto e também obter o tamanho de um texto quantos caracteres naquele texto tem e por último a gente vai calcular uma função de fatorial e aí em todos esses casos a gente vai finalizar com a interface com o Gradle tá bom e vamos executar essa aplicação e assim por diante então vai ser uma excelente forma da gente praticar colocar a mão na massa e ver que o Gradle ele pode servir como essa biblioteca que cria uma interface gráfica de forma bem rápida para que a gente consiga digamos de forma didática explicar o que está acontecendo ali por debaixo dos panos tá bom então eu vou criar aqui um arquivo que eu vou chamar de app underline soma.py como o meu objetivo é criar aplicação sempre que eu vou criar aplicações eu gosto de criar com o arquivo .py agora quando eu vou explicar alguma coisa e eu quero que explicando e à medida que eu vou explicando já vou executando o código tá célula célula a gente utiliza o formato o tipo de arquivo .ipynb tá bom essa é uma boa prática que eu tenho adotado e pela experiência que eu tenho tido em relação aos alunos né os alunos têm gostado dessa forma tá bom bem na última aula nós instalamos o Gradle então agora eu posso importar o Gradle import Gradle sgr então aqui o que eu estou fazendo estou dando um apelido para a minha biblioteca porque aí a partir de então toda vez que eu me referir ao Gradle eu posso utilizar o apelido que eu defini beleza então basicamente essa é a ideia tá eu vou agora criar a minha função tá certo então deve somar essa função ela vai ter dois parâmetros que é o parâmetro número um e o parâmetro número dois e aí eu vou retornar o número um mais o número dois beleza porque já que a minha função é para somar e aí a gente tem aqui a nossa nós temos aqui o nosso exemplo tá então se eu quero executar essa função eu chamo a função somar e eu passo pra ele 5 que é o número 1 e 4 que é o número 2 tá bom e aí como ele está retornando o que eu faço aqui eu vou colocar esse cara aqui dentro de um print beleza que a ele vai aparecer a mensagem aqui no terminal pra gente bom daqui um ctrl l ctrl l python app pressiono o tab e dou um enter vamos aguardar aqui enquanto ele executa ele está com um problema aqui no interpretador eu vou pegar esse interpretador aqui que estava pronto ele não tinha reconhecido agora ele já retornou aqui pra gente tá bom se eu altero aqui ó 3 e 2 recupera o comando pra cima e dou um enter ele já executa aqui pra gente tá bom beleza vou dar um ctrl l perfeito pessoal só que aí tem um porém né porém é que a gente não tem nós não temos a gente quer criar uma interface com o grade para que o usuário ao ver essa execução aqui no terminal ele possa executar uma aplicação web então é isso que eu vou fazer agora vou criar aqui minha interface aí fez e aí do módulo gr eu tenho aqui o interface e aí eu preciso passar algumas informações por exemplo qual é a função a função é a função somar que a gente já tem ali preciso passar os inputs no meu caso eu vou ter dois inputs tá esses dois inputs são do tipo numbe que é o número 1 e o número 2 eu preciso ter também o output o output é que eu vou ter apenas um que é uma informação que é do tipo numbe posso ter aqui um title eu vou definir que é uma calculadora de soma posso ter também um description eu vou definir que insira dois números para obter a soma e aí eu posso utilizar que o time que é o default beleza certo que a gente passa entre aspas beleza e aí agora pessoal passo que o i-face ponto launch basicamente é isso tá criamos aqui a nossa função para definir o grade está definindo a interface visual com grade então agora eu posso executar novamente parto app pressiono tab e doente e ele vai executar aqui pra gente o grade tá bom então veja como é bem simples está pessoal aqui a gente tem aqui é uma função definir a função inputs são os dois parâmetros output é o que ele vai retornar que é um número aí depois é só o título descrição que é que é opcional mas é bom que tenha né e o time default beleza então se eu copiar isso aqui agora vou colar olha só que legal pessoal eu tenho agora uma aplicação web que tem uma interface de usuário né pra essa essa função que eu acabei de criar eu posso definir que o 6 mais 3 submit é igual a 9 beleza 6 mais 10 submit 16 botar aqui um valor específico ele já retorna aqui pra gente tá bom e o legal pessoal é que agora a gente tem uma interface de usuário né uma interface web que nos ajuda a ver o resultado de forma mais interativa e dinâmica tá pra não ter que ficar toda vez fazendo o que via terminal a gente pode praticar essa parte inicial aqui utilizando grade tá bom é bem verdade que o grade ele também é muito utilizado para trabalhar com aplicações de machine learning mas dado a sua simplicidade e facilidade você pode também aplicar na nas aulas fundamentais em pai tá bom pensando nisso eu vou dar um ctrl c vamos agora criar o nosso próximo exemplo app underline texto ponto py então agora na ideia que do meu app texto tá é que a gente possa inverter um texto então primeiro vou começar importando o grade o sgr e eu vou criar a função reverter underline texto e aí eu vou passar um texto como parâmetro na verdade eu vou tentar aqui dentro dele o texto revertido que é igual pra eu inverter um texto a gente tem viu as aulas lá de string basicamente o passo dois pontos dois pontos menos um ele vai pegar o meu texto vai inverter ele beleza e aí eu quero retornar aqui o texto revertido e quero retornar também o tamanho do meu texto revertido beleza então se eu fizer aqui um teste agora dá um print reverter texto e eu passar aqui olá mundo olha só o que ele vai retornar pra gente python app underline t pression no tab porque se deixar só a pp pression no tab ele pode pegar o soma que primeiro né o copo olha ele trouxe aqui ó o olá mundo inverteu e diz que ele tem nove caracteres é basicamente isso que eu quero ter só que a diferença que agora a gente vai ter que criar na interface né então vou dar aqui um control ponto e vírgula colocar aqui e aí agora eu vou criar minha interface igual e gr ponto interface você já sabe está familiarizado a função vai ser essa função reverter texto o input agora no input eu tenho apenas um que é um texto né e o texto ele tem que ser um text beleza já no output eu vou ter dois primeiro que é o texto revertido e o segundo é o tamanho do texto revertido então no primeiro eu digo como são dois eu passo entre uma lista aqui primeiro eu digo que é um texto e o segundo eu digo que é um nome é um número tá bom eu vou ter também o title reverso de texto e por último eu tenho que uma descripção insira um texto para rever tê-lo e contar os caracteres bom perfeito depois disso então do que um i-face ponto o launch perfeito pessoal então temos aqui o nosso exemplo bem simples está do grego e dado isso tendo feito isso aqui então eu posso dar ctrl l posso executar novamente o comando anterior e aí agora ele vai criar a interface visual em uma aplicação web utilizando o grego e aí a gente pode testar aquilo que nós testamos agora há pouco no terminal vou atualizar aqui está aí reverso de texto então veja do lado esquerdo o input\n",
      "\n",
      "lado direito do Output, colocar aqui Olá Mundo, tá aí, ele inverteu aqui e trouxe dois caracteres, tá bom? Aqui eu coloquei ponto, por isso ele considerou aqui, ó, dez caracteres, eu deixo só Olá Mundo, nove caracteres, tá bom? Então mais um exemplo interessante, pessoal, que a gente tem aqui de utilização do Gradle, tá? Então eu vou colocar aqui, Gradle é legal. Então ele traz aqui também, ó, deixa aqui, inverte o texto e traz a contagem de caracteres, tá bom? Beleza, vamos cancelar aqui a execução, porque a gente tem mais um, uma aplicação para criar, né, que é a aplicação de fatorial, então vamos lá, eu vou importar aqui o Gradle SGR e vou importar o módulo nativo Math, e aí eu vou criar aqui a minha função fatorial que vai receber um número, a verificação é, se esse número for menor do que zero, vou retornar, dá um return fatorial não definido para números negativos, caso contrário eu vou retornar o Math.fatorial e passo o número, beleza? Então aqui eu estou utilizando o módulo nativo do Math, que ele tem uma função fatorial para ele calcular para mim isso aqui, beleza? Então se eu chamar aqui, ó, fatorial de menos um, colocar isso dentro de um print, olha só o que ele vai retornar, lembrando que eu estou utilizando um número menor que zero, né? Então Python, app, neline, fa, pressiono Tab e dou um Enter, vamos aguardar aqui enquanto ele retorna, ó, fatorial não definido para números negativos, vou alterar, vou deixar aqui número 5, vou executar novamente e aí agora ele vai calcular o fatorial número 5, que é igual a 120, tá bom? Vou dar um contraponto e vírgula, porque eu não quero utilizar no terminal, eu quero criar a interface, então iface igual gr.interface e aí eu passo aqui o fn igual a fatorial passo o inputs, que é um number, é um número, o meu parâmetro ali, eu quero que seja um número, em relação ao outputs eu posso definir que seja um text, porque eu não vou fazer nada com esse número, então pode ser apenas em text mesmo. Eu vou ter um title, calculadora de fatorial e vou ter uma description, insira um número para obter o fatorial, depois eu passo aqui o iface.launch, beleza, perfeito pessoal, vamos executar novamente, ok, vou executar aqui então, beleza pessoal, então insira um número para obter o fatorial, número 6, submit, tá aí, 720, número menos 5, menor que zero, fatorial não definido para números negativos, tá bom, é exatamente por isso que a gente retornou aqui um input sendo um text, porque ele pode inserir um número menor que zero, e se ele inserir um número menor que zero, eu quero que ele retorne isso aqui, logo se o output fosse um numb, ele daria um erro, porque ele não iria conseguir retornar essa informação, tá bom, então como eu não vou realizar nenhum cálculo com esse valor aqui, eu posso deixar ele como text, perfeito, beleza pessoal, então a ideia dessa aula foi criar 3 scripts, onde cada script a gente criava uma função, executava ela com print e mostrava como executar ela no Python e como adaptar essa função para dentro da nossa interface web com o Gradle, tá bom, espero que você tenha aprendido e com base nessas aplicações que eu criei, você possa criar outras aplicações também sobre os fundamentos de Python.\n",
      "Human: Faça um resumo breve desse vídeo para mim\u001b[0m\n",
      "\n",
      "\u001b[1m> Finished chain.\u001b[0m\n",
      "\n",
      "\u001b[1m> Finished chain.\u001b[0m\n"
     ]
    },
    {
     "data": {
      "text/plain": [
       "'Neste vídeo, o instrutor explora a biblioteca Gradle para criar interfaces gráficas em Python. Ele destaca a simplicidade e a facilidade de uso do Gradle, mostrando como construir aplicações web com interfaces interativas de forma rápida. O instrutor demonstra a criação de três aplicações simples: uma calculadora de soma, um inversor de texto e um calculador de fatorial, integrando as funções Python com o Gradle para gerar interfaces visuais. Ao final, o vídeo incentiva os espectadores a praticarem e explorarem mais possibilidades de criação de aplicações utilizando o Gradle.'"
      ]
     },
     "execution_count": 16,
     "metadata": {},
     "output_type": "execute_result"
    }
   ],
   "source": [
    "pergunta = \"Faça um resumo breve desse vídeo para mim\"\n",
    "chain.run(input_documents=docs, question=pergunta)"
   ]
  },
  {
   "cell_type": "markdown",
   "metadata": {},
   "source": [
    "### Web via URL"
   ]
  },
  {
   "cell_type": "code",
   "execution_count": 17,
   "metadata": {},
   "outputs": [],
   "source": [
    "from langchain_community.document_loaders.web_base import WebBaseLoader\n",
    "url = \"https://medium.com/ensina-ai/introdu%C3%A7%C3%A3o-a-processamento-de-linguagem-natural-174936c096b\"\n",
    "loader = WebBaseLoader(url)\n",
    "documents = loader.load()"
   ]
  },
  {
   "cell_type": "code",
   "execution_count": 18,
   "metadata": {},
   "outputs": [
    {
     "data": {
      "text/plain": [
       "1"
      ]
     },
     "execution_count": 18,
     "metadata": {},
     "output_type": "execute_result"
    }
   ],
   "source": [
    "len(documents)"
   ]
  },
  {
   "cell_type": "code",
   "execution_count": 19,
   "metadata": {},
   "outputs": [
    {
     "data": {
      "text/plain": [
       "'Introdução a Processamento de Linguagem Natural | by Rodrigo Macedo | Ensina.AI | MediumOpen in appSign upSign inWriteSign upSign inIntrodução a Processamento de Linguagem NaturalRodrigo Macedo·FollowPublished inEnsina.AI·8 min read·Nov 2, 2018--ShareFonte: http://www.polisconsulting.com.br/nlp-como-funciona-o-processamento-de-linguagem-natural/Você já deve ter ouvido falar sobre Processamento de Linguagem Natural (PLN). Não por acaso, essa é uma das áreas que tem empregado muitas pesquisas e es'"
      ]
     },
     "execution_count": 19,
     "metadata": {},
     "output_type": "execute_result"
    }
   ],
   "source": [
    "documents[0].page_content[:500]"
   ]
  }
 ],
 "metadata": {
  "kernelspec": {
   "display_name": ".venv",
   "language": "python",
   "name": "python3"
  },
  "language_info": {
   "codemirror_mode": {
    "name": "ipython",
    "version": 3
   },
   "file_extension": ".py",
   "mimetype": "text/x-python",
   "name": "python",
   "nbconvert_exporter": "python",
   "pygments_lexer": "ipython3",
   "version": "3.11.5"
  }
 },
 "nbformat": 4,
 "nbformat_minor": 2
}
