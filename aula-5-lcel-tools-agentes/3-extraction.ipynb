{
 "cells": [
  {
   "cell_type": "code",
   "execution_count": 1,
   "metadata": {},
   "outputs": [],
   "source": [
    "texto = \"\"\"\n",
    "A Microsoft foi fundada em 4 de abril de 1975 por Bill Gates e Paul Allen, em Albuquerque, \n",
    "no estado do Novo México. O nome \"Microsoft\" é uma combinação das palavras \"microcomputador\" \n",
    "e \"software\", refletindo o foco da empresa em software para computadores pessoais.\n",
    "O primeiro grande projeto da Microsoft foi a criação de um sistema operacional para o \n",
    "computador Altair 8800, um dos primeiros microcomputadores disponíveis comercialmente. \n",
    "O sistema, denominado Altair BASIC, foi desenvolvido em parceria com a MITS \n",
    "(Micro Instrumentation and Telemetry Systems) e foi um marco inicial para a Microsoft.\n",
    "Em 1980, a empresa firmou um contrato significativo com a IBM para fornecer o sistema \n",
    "operacional para o novo PC da IBM, o que levou à criação do MS-DOS. Esse contrato foi um \n",
    "ponto de virada para a Microsoft, impulsionando sua expansão e dominando o mercado de \n",
    "sistemas operacionais para PCs nos anos seguintes.\n",
    "Com o sucesso do MS-DOS, a Microsoft se consolidou como líder no setor de software e, \n",
    "em 1985, lançou o Windows, um sistema operacional gráfico que viria a se tornar a base \n",
    "de sua supremacia no mercado de sistemas operacionais para desktop.\n",
    "\"\"\""
   ]
  },
  {
   "cell_type": "code",
   "execution_count": 2,
   "metadata": {},
   "outputs": [],
   "source": [
    "from langchain.pydantic_v1 import BaseModel, Field\n",
    "from typing import List\n",
    "from langchain_core.utils.function_calling import convert_to_openai_function"
   ]
  },
  {
   "cell_type": "code",
   "execution_count": 3,
   "metadata": {},
   "outputs": [
    {
     "data": {
      "text/plain": [
       "{'name': 'EventsList',\n",
       " 'description': 'Lista de Eventos para Extração',\n",
       " 'parameters': {'type': 'object',\n",
       "  'properties': {'events': {'description': 'Conjunto de eventos encontrados no texto fornecido',\n",
       "    'type': 'array',\n",
       "    'items': {'description': 'Informações sobre um evento ocorrido',\n",
       "     'type': 'object',\n",
       "     'properties': {'date': {'description': 'Data do evento no formato YYYY-MM-DD',\n",
       "       'type': 'string'},\n",
       "      'event': {'description': 'Descrição do evento extraído do texto',\n",
       "       'type': 'string'}},\n",
       "     'required': ['date', 'event']}}},\n",
       "  'required': ['events']}}"
      ]
     },
     "execution_count": 3,
     "metadata": {},
     "output_type": "execute_result"
    }
   ],
   "source": [
    "class Event(BaseModel):\n",
    "    \"\"\"Informações sobre um evento ocorrido\"\"\"\n",
    "    date: str = Field(description=\"Data do evento no formato YYYY-MM-DD\")\n",
    "    event: str = Field(description=\"Descrição do evento extraído do texto\")\n",
    "    \n",
    "class EventsList(BaseModel):\n",
    "    \"\"\"Lista de Eventos para Extração\"\"\"\n",
    "    events: List[Event] = Field(description=\"Conjunto de eventos encontrados no texto fornecido\")\n",
    "    \n",
    "tool_events = convert_to_openai_function(EventsList)\n",
    "tool_events"
   ]
  },
  {
   "cell_type": "code",
   "execution_count": 4,
   "metadata": {},
   "outputs": [],
   "source": [
    "from langchain.prompts import ChatPromptTemplate\n",
    "from langchain_openai import ChatOpenAI\n",
    "\n",
    "prompt = ChatPromptTemplate.from_messages([\n",
    "    (\"system\", \"Extraia as frases de acontecimentos e as extraia integralmente\"),\n",
    "    (\"user\", \"{input}\")\n",
    "])\n",
    "\n",
    "chat = ChatOpenAI()\n",
    "\n",
    "chain = (prompt | chat.bind(functions=[tool_events],\n",
    "                            function_call={\"name\":\"EventsList\"}))"
   ]
  },
  {
   "cell_type": "code",
   "execution_count": 5,
   "metadata": {},
   "outputs": [
    {
     "data": {
      "text/plain": [
       "AIMessage(content='', additional_kwargs={'function_call': {'arguments': '{\"events\":[{\"date\":\"1975-04-04\",\"event\":\"A Microsoft foi fundada por Bill Gates e Paul Allen em Albuquerque, Novo México.\"},{\"date\":\"1980\",\"event\":\"Microsoft firmou um contrato com a IBM para fornecer o sistema operacional para o novo PC da IBM, resultando no desenvolvimento do MS-DOS.\"},{\"date\":\"1985\",\"event\":\"A Microsoft lançou o Windows, um sistema operacional gráfico que se tornou a base de sua supremacia no mercado de sistemas operacionais para desktop.\"}]}', 'name': 'EventsList'}}, response_metadata={'token_usage': {'completion_tokens': 116, 'prompt_tokens': 426, 'total_tokens': 542, 'completion_tokens_details': {'accepted_prediction_tokens': 0, 'audio_tokens': 0, 'reasoning_tokens': 0, 'rejected_prediction_tokens': 0}, 'prompt_tokens_details': {'audio_tokens': 0, 'cached_tokens': 0}}, 'model_name': 'gpt-3.5-turbo', 'system_fingerprint': None, 'finish_reason': 'stop', 'logprobs': None}, id='run-ab5733a3-02a7-4076-848a-fdbf517bf968-0')"
      ]
     },
     "execution_count": 5,
     "metadata": {},
     "output_type": "execute_result"
    }
   ],
   "source": [
    "chain.invoke({\"input\": texto})"
   ]
  },
  {
   "cell_type": "code",
   "execution_count": 6,
   "metadata": {},
   "outputs": [
    {
     "data": {
      "text/plain": [
       "{'events': [{'date': '1975-04-04',\n",
       "   'event': 'A Microsoft foi fundada por Bill Gates e Paul Allen em Albuquerque, Novo México.'},\n",
       "  {'date': '1980',\n",
       "   'event': 'A Microsoft firmou um contrato com a IBM para fornecer o sistema operacional para o novo PC da IBM, resultando no MS-DOS.'},\n",
       "  {'date': '1985',\n",
       "   'event': 'A Microsoft lançou o Windows, um sistema operacional gráfico que se tornou a base de sua supremacia no mercado de sistemas operacionais para desktop.'}]}"
      ]
     },
     "execution_count": 6,
     "metadata": {},
     "output_type": "execute_result"
    }
   ],
   "source": [
    "from langchain.output_parsers.openai_functions import JsonOutputFunctionsParser\n",
    "\n",
    "chain = (prompt \n",
    "         | chat.bind(functions=[tool_events], function_call={'name': 'EventsList'})\n",
    "         | JsonOutputFunctionsParser())\n",
    "\n",
    "chain.invoke({'input': texto})"
   ]
  },
  {
   "cell_type": "markdown",
   "metadata": {},
   "source": [
    "### Dados da Web"
   ]
  },
  {
   "cell_type": "code",
   "execution_count": 7,
   "metadata": {},
   "outputs": [
    {
     "data": {
      "text/plain": [
       "[Document(page_content=\" TechTudo: tecnologia, celular, computador e games                top e últimas       Voltar     top e últimas    últimas do techtudo     notícias     comparativos     dicas e tutoriais     guias     listas     reviews     vídeos     tudo sobre     webstories       celulares e tablets       Voltar     celulares e tablets    notícias de celulares     celulares     tablets     telefonia     smartwatches     e-reader     android     iOS     fórum     --     iPhone 14     iphone 13     galaxy s22 ultra     moto g stylus     redmi note 10       jogos       Voltar     jogos    notícias de jogos     jogos casuais     jogos de esportes     jogos de terror     mais jogos       Voltar     mais jogos    jogos de ação     jogos arcade     jogos de aventura     jogos de corrida     jogos de estratégia     jogos de luta     jogos de raciocínio     jogos de rpg     jogos de tabuleiro     jogos educativos       playstation     xbox     nintendo     fórum     --     gta 5     roblox     minecraft       esports       Voltar     esports    notícias de esports     campeonatos     times     atletas     --     cblol     liga brasileira de free fire     twitch tv       informática       Voltar     informática    notícias de informática     computadores       Voltar     computadores    pc     pc gamer       notebooks       Voltar     notebooks    notebooks     notebooks 2 em 1     notebook gamer       impressoras       Voltar     impressoras    impressoras     impressoras 3d       mouses     placas e componentes     roteadores     --     windows 11     macos     linux       eletrodomésticos       Voltar     eletrodomésticos    air fryer     fogões     geladeiras     máquinas de lavar       eletrônicos       Voltar     eletrônicos    notícias de eletrônicos     ar-condicionado     caixas de som     câmeras       Voltar     câmeras    câmeras     filmadoras       carros smart     fones de ouvido     máquinas de cartão     tv box     TVs     veículos     --     gopro hero      chromecast     amazon echo dot       softwares       Voltar     softwares    notícias de softwares     aplicativos para celular     áudio e vídeo     imagens     inteligência artificial     internet     produtividade     redes sociais     segurança     utilitários     --     whatsapp     instagram     facebook     youtube       Streaming       Voltar     Streaming    notícias de streaming     Animes     Séries       Voltar     Séries    dorama     séries       Filmes     Jogos de futebol     Programas de TV     Plataformas       --     tech 60+     bbb     qual comprar     iphone 16     --     quem somos     fórum techtudo     canal do tt no whatsapp     comparativo de preços     CBN tecnologia            princípios editoriais        termos de uso        política de privacidade                         Menu                      TechTudo                                                             últimas     aplicativos     celulares     eletrônicos     informática     eletrodomésticos     jogos     softwares     streaming     qual comprar         Publicidade        \\n\\n\\n\\n\\n                      Notícias, dicas, listas e reviews!\\n                    \\n                    ➡️ CANAL DO TECHTUDO NO WHATSAPP  \\n                  \\n\\n\\n\\n                      ACESSE ⮕\\n                      \\n\\n\\n\\n\\n\\n\\n\\n\\n\\n      APROVEITE Jogos famosos estão mais baratos neste final de semana; veja lista As lojas digitais dos consoles e Steam também trazem descontos em Alien: Isolation, Ratchet & Clank: Rift Apart, Hollow Knight e outros jogos de sucesso.        VOCÊ TERIA? Robô que limpa piscina sozinho pode ser controlado pelo celular        MODELO GAMER DA XIAOMI Poco X7 Pro: 6 curiosidades do celular que você precisa saber       CONTINUA DEPOIS DA PUBLICIDADE            CES 2025          NOVIDADES    6 coisas que você precisa ficar de olho na maior feira de tecnologia                 CONFIRA    Samsung confirma lançamento do Ballie e apresenta Galaxy Book5               VALE A PENA?    Nvidia revela RTX 5090 e outras placas de vídeo; preços assustam                     Vídeos              Review  Honor Magic 6 Lite: Vale a Pena Comprar? Análise Completa e Surpreendente!           Amazon Echo Spot   Vale a pena? Confira análise da 'Alexa'           QUAL COMPRAR?  O preço caiu? A gente avalia se a oferta realmente vale a pena          SOFTWARES E APPS          INTELIGÊNCIA ARTIFICIAL    Artbreeder: saiba como usar IA para criar arte e personagens realistas     Artbreeder é uma plataforma de inteligência artificial que permite gerar artes e personagens; veja como fazer criações com botões e comandos de texto no tutorial abaixo                 PASSO A PASSO     Genmoji: como criar emojis no iPhone com o recurso do iOS 18               COMPARE    Windows 10 vs. Windows 11: qual é melhor? Veja o que muda entre as versões                     ELETRODOMÉSTICOS          FATOS E MENTIRAS    Mito ou verdade? 8 fatos sobre micro-ondas que vão te surpreender     O uso do aparelho ainda levanta dúvidas, desde quais materiais são seguros para aquecer alimentos até os possíveis impactos da radiação na saúde; descubra o que é mentira                 MAIS PRATICIDADE    Melhor cooktop 5 bocas: veja modelos para comprar e modernizar a cozinha               BBB    BBB 25: veja quais são os eletrodomésticos da casa mais vigiada do Brasil               SEM PELOS    8 dicas para tirar pelos de roupas na máquina de lavar DE VEZ!                    CELULARES          FASHION TECH 💍    Este anel inteligente de luxo custa mais de R$ 13 mil; conheça                 CHEGAMOS AO FIM? 😞    Adeus, Nokia? HMD aposenta smartphones da marca; relembre história da empresa               ÓTIMAS DICAS ⚠️    Comprou um celular usado? Veja 5 cuidados essenciais para evitar problemas               MENOS TELA 🚫    Lei que proíbe celular nas escolas: tudo que você precisa saber a respeito                    STREAMING          SE LIGA!    15 doramas que estreiam em 2025 e você precisa ficar de olho     De Moana 2 a Wicked, os longas desta lista não só arrecadaram bilhões nas bilheterias globais, mas também se consolidaram como os grandes destaques do ano; confira a lista completa                 OBRAS MENOS POPULARES    12 bons filmes de terror que estão 'escondidos' no catálogo da Netflix               RELEMBRE SUCESSOS    Os 20 melhores filmes de 2024, segundo a crítica               JÁ ASSISTIU?     15 melhores filmes de suspense de 2024, segundo a crítica                    INFORMÁTICA & ELETRÔNICOS          BOM PARA O VERÃO!    Robô que limpa piscina sozinho é novidade da CES 2025; conheça                 ANO NOVO, TELA NOVA    Quer uma TV nova em 2025? Veja 7 dicas para não errar ao comprar               É ÚTIL?    Este robô fofo não vai te deixar queimar a língua; conheça o Fufu               GUIA COMPLETO    Impressora: tudo o que você precisa saber antes de comprar uma                    QUAL COMPRAR          SEM PERRENGUE COM CALOR    6 climatizadores de ar para enfrentar o calor e comprar já em 2025                 COZINHA MODERNA    Frigobar preto: 6 modelos elegantes para investir neste verão               SONHO DE CONSUMO    Adega 12 garrafas: 6 modelos para acomodar todos os seus vinhos               VALEM (MUITO) A PENA!    6 TVs para investir já em 2025 com bom custo-benefício                    JOGOS & ESPORTS          SAIBA MAIS    Missões em GTA San Andreas: veja lista completa e como zerar o game                 DESCUBRA    13 jogos indie que chegam ainda em 2025 e você devia ficar de olho               PARA ACELERAR    15 jogos de corrida que são grátis no Android e você precisa baixar em 2025               FUTURAS CRAQUES    EA FC 25: 20 promessas do futebol feminino para contratar no Modo Carreira                       Mais Lidas          World ID: entenda 'venda de íris' em cripto que viralizou no TikTok       12 filmes de faroeste com John Wayne para assistir pelo menos uma vez       Jogo do Cruzeiro hoje: saiba horário e onde assistir partida contra o São Paulo       BBB 25 ao vivo grátis: veja como assistir aos programas diários no Globoplay       Melhor cooktop 5 bocas: veja modelos para comprar e modernizar a cozinha           CONTINUA DEPOIS DA PUBLICIDADE        Top Downloads         1        Counter-Strike    8,8                               Saiba mais        2        aTube Catcher    9,8                               Saiba mais        3        BlueStacks App Player    7,5                               Saiba mais        4        Chrome     10                               Saiba mais        5        Firefox    8,8                               Saiba mais        CONTINUA DEPOIS DA PUBLICIDADE       Techtudo   Você tem alguma dúvida sobre tecnologia? Visite o Fórum TechTudo e peça ajuda para a comunidade.   FAÇA UM PERGUNTA                SIGA                                                                    aplicativos    instagram     whatsapp     youtube      celulares    iphone 14     android     ios      jogos    coin master     gta 5     minecraft      esports    csgo     league of legends     valorant      eletrônicos    amazon echo dot     chromecast     gopro hero      eletrodomésticos    air fryer     fogões     geladeiras     máquinas de lavar      informática    dell     intel core i5     macbook air      softwares    adobe photoshop     adobe reader     windows      streaming    netflix     star+     amazon prime video      tudo sobre de a-z   mapa do site    comparativos     dicas e tutoriais     guias     listas     noticias     reviews     webstories                        Valor   Pipeline   Valor Investe       O Globo   Extra   Autoesporte   BHFM   Casa e Jardim   Casa Vogue   CBN       Crescer   Época Negócios   Galileu   Glamour   Globo Rural   GQ   Marie Claire       Monet   PEGN   Quem   Rádio Globo   TechTudo   Um Só Planeta   Vida de Bicho   Vogue        Quem Somos Termos e Condições Trabalhe Conosco Política de Privacidade Princípios Editoriais Anuncie Minha Editora       © 1996 - 2025. Todos direitos reservados a Editora Globo S/A. Este material não pode ser publicado, transmitido por broadcast, reescrito ou redistribuído sem autorização.          \", metadata={'source': 'https://www.techtudo.com.br', 'title': 'TechTudo: tecnologia, celular, computador e games', 'description': 'O TechTudo reúne as principais notícias de tecnologia, reviews de celulares, TVs e computadores, além de dicas sobre aparelhos, aplicativos e softwares.', 'language': 'pt-BR'})]"
      ]
     },
     "execution_count": 7,
     "metadata": {},
     "output_type": "execute_result"
    }
   ],
   "source": [
    "from langchain_community.document_loaders.web_base import WebBaseLoader\n",
    "\n",
    "loader = WebBaseLoader(\"https://www.techtudo.com.br\")\n",
    "page = loader.load()\n",
    "page"
   ]
  },
  {
   "cell_type": "code",
   "execution_count": 9,
   "metadata": {},
   "outputs": [
    {
     "data": {
      "text/plain": [
       "{'name': 'BlogSite',\n",
       " 'description': 'Conjunto de postagens de blog de um site específico',\n",
       " 'parameters': {'type': 'object',\n",
       "  'properties': {'posts': {'description': 'Coleção de postagens de blog do site',\n",
       "    'type': 'array',\n",
       "    'items': {'description': 'Detalhes sobre uma postagem de blog',\n",
       "     'type': 'object',\n",
       "     'properties': {'title': {'description': 'Título da postagem no blog',\n",
       "       'type': 'string'},\n",
       "      'author': {'description': 'Nome do autor da postagem no blog',\n",
       "       'type': 'string'}},\n",
       "     'required': ['title', 'author']}}},\n",
       "  'required': ['posts']}}"
      ]
     },
     "execution_count": 9,
     "metadata": {},
     "output_type": "execute_result"
    }
   ],
   "source": [
    "class BlogPost(BaseModel):\n",
    "    \"\"\"Detalhes sobre uma postagem de blog\"\"\"\n",
    "    title: str = Field(description=\"Título da postagem no blog\")\n",
    "    author: str = Field(description=\"Nome do autor da postagem no blog\")\n",
    "    \n",
    "class BlogSite(BaseModel):\n",
    "    \"\"\"Conjunto de postagens de blog de um site específico\"\"\"\n",
    "    posts: List[BlogPost] = Field(description=\"Coleção de postagens de blog do site\")\n",
    "    \n",
    "tool_blog = convert_to_openai_function(BlogSite)\n",
    "tool_blog"
   ]
  },
  {
   "cell_type": "code",
   "execution_count": 10,
   "metadata": {},
   "outputs": [],
   "source": [
    "from langchain.output_parsers.openai_functions import JsonKeyOutputFunctionsParser\n",
    "from langchain.prompts import ChatPromptTemplate\n",
    "from langchain_openai import ChatOpenAI\n",
    "\n",
    "prompt = ChatPromptTemplate.from_messages([\n",
    "    ('system', 'Extraia da página os posts do blog com as informações especificadas'),\n",
    "    ('user', '{input}')\n",
    "])\n",
    "chat = ChatOpenAI()\n",
    "chain = (prompt \n",
    "         | chat.bind(functions=[tool_blog], function_call={'name': 'BlogSite'})\n",
    "         | JsonKeyOutputFunctionsParser(key_name='posts'))"
   ]
  },
  {
   "cell_type": "code",
   "execution_count": 11,
   "metadata": {},
   "outputs": [
    {
     "data": {
      "text/plain": [
       "[{'title': 'Jogos famosos estão mais baratos neste final de semana; veja lista',\n",
       "  'author': ''},\n",
       " {'title': 'Robô que limpa piscina sozinho pode ser controlado pelo celular',\n",
       "  'author': ''},\n",
       " {'title': 'MODELO GAMER DA XIAOMI Poco X7 Pro: 6 curiosidades do celular que você precisa saber',\n",
       "  'author': ''},\n",
       " {'title': '6 coisas que você precisa ficar de olho na maior feira de tecnologia',\n",
       "  'author': ''},\n",
       " {'title': 'Samsung confirma lançamento do Ballie e apresenta Galaxy Book5',\n",
       "  'author': ''},\n",
       " {'title': 'Nvidia revela RTX 5090 e outras placas de vídeo; preços assustam',\n",
       "  'author': ''},\n",
       " {'title': 'Artbreeder: saiba como usar IA para criar arte e personagens realistas',\n",
       "  'author': ''},\n",
       " {'title': 'Genmoji: como criar emojis no iPhone com o recurso do iOS 18',\n",
       "  'author': ''},\n",
       " {'title': 'Mito ou verdade? 8 fatos sobre micro-ondas que vão te surpreender',\n",
       "  'author': ''},\n",
       " {'title': 'Melhor cooktop 5 bocas: veja modelos para comprar e modernizar a cozinha',\n",
       "  'author': ''},\n",
       " {'title': 'Missões em GTA San Andreas: veja lista completa e como zerar o game',\n",
       "  'author': ''},\n",
       " {'title': '13 jogos indie que chegam ainda em 2025 e você devia ficar de olho',\n",
       "  'author': ''}]"
      ]
     },
     "execution_count": 11,
     "metadata": {},
     "output_type": "execute_result"
    }
   ],
   "source": [
    "chain.invoke({\"input\": page})"
   ]
  }
 ],
 "metadata": {
  "kernelspec": {
   "display_name": ".venv",
   "language": "python",
   "name": "python3"
  },
  "language_info": {
   "codemirror_mode": {
    "name": "ipython",
    "version": 3
   },
   "file_extension": ".py",
   "mimetype": "text/x-python",
   "name": "python",
   "nbconvert_exporter": "python",
   "pygments_lexer": "ipython3",
   "version": "3.11.5"
  }
 },
 "nbformat": 4,
 "nbformat_minor": 2
}
