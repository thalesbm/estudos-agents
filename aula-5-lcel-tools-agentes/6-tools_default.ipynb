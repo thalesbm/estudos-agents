{
 "cells": [
  {
   "cell_type": "code",
   "execution_count": 5,
   "metadata": {},
   "outputs": [
    {
     "data": {
      "text/plain": [
       "'A Python shell. Use this to execute python commands. Input should be a valid python command. If you want to see the output of a value, you should print it out with `print(...)`.'"
      ]
     },
     "execution_count": 5,
     "metadata": {},
     "output_type": "execute_result"
    }
   ],
   "source": [
    "from langchain_experimental.tools.python.tool import PythonREPLTool\n",
    "\n",
    "tool_repl = PythonREPLTool()\n",
    "tool_repl.description"
   ]
  },
  {
   "cell_type": "code",
   "execution_count": 6,
   "metadata": {},
   "outputs": [
    {
     "name": "stderr",
     "output_type": "stream",
     "text": [
      "Python REPL can execute arbitrary code. Use with caution.\n"
     ]
    },
    {
     "data": {
      "text/plain": [
       "\"The Zen of Python, by Tim Peters\\n\\nBeautiful is better than ugly.\\nExplicit is better than implicit.\\nSimple is better than complex.\\nComplex is better than complicated.\\nFlat is better than nested.\\nSparse is better than dense.\\nReadability counts.\\nSpecial cases aren't special enough to break the rules.\\nAlthough practicality beats purity.\\nErrors should never pass silently.\\nUnless explicitly silenced.\\nIn the face of ambiguity, refuse the temptation to guess.\\nThere should be one-- and preferably only one --obvious way to do it.\\nAlthough that way may not be obvious at first unless you're Dutch.\\nNow is better than never.\\nAlthough never is often better than *right* now.\\nIf the implementation is hard to explain, it's a bad idea.\\nIf the implementation is easy to explain, it may be a good idea.\\nNamespaces are one honking great idea -- let's do more of those!\\n\""
      ]
     },
     "execution_count": 6,
     "metadata": {},
     "output_type": "execute_result"
    }
   ],
   "source": [
    "tool_repl.run({\"query\": \"import this\"})"
   ]
  },
  {
   "cell_type": "code",
   "execution_count": 7,
   "metadata": {},
   "outputs": [],
   "source": [
    "from langchain.agents import load_tools\n",
    "\n",
    "tools = load_tools([\"stackexchange\"])\n",
    "\n",
    "tool_stack = tools[0]"
   ]
  },
  {
   "cell_type": "code",
   "execution_count": 8,
   "metadata": {},
   "outputs": [
    {
     "data": {
      "text/plain": [
       "'Question: cannot import name &#39;LangchainEmbedding&#39; from &#39;llama_index&#39;\\nI&#39;m trying to build a simple RAG, and I&#39;m stuck at this code:\\nfrom langchain.embeddings.huggingface import HuggingFaceEmbeddings\\nfrom llama_index import LangchainEmbedding, ServiceContext\\n\\nembed_model &hellip; \\nAnswer: INFO 2024:\\nThis answer worked in 2023 when question was asked\\nbut it seems they moved all code and now you have to use other answers.\\n\\nNot\\nfrom llama_index import LangchainEmbedding\\n\\nbut\\nfrom llama_in … \\n\\nQuestion: Where are LangChain&#39;s chat templates stored?\\nYou know how when you use chains or agents, <span class=\"highlight\">LangChain</span> automatically adds all the necessary chat templates?\\nWell, I decided to look for them, to see how they actually look. &hellip; \\n\\nQuestion: Getting OpenAI API Error While Using Groq API for Python Coding Agent\\nI am trying to create a Python coding agent using the crewai library along with <span class=\"highlight\">langchain</span> and ChatGroq. &hellip; \\nAnswer: sometimes, if error still occurs, we just define the llm model in all of the agents, as they have been assigned a default model.\\n'"
      ]
     },
     "execution_count": 8,
     "metadata": {},
     "output_type": "execute_result"
    }
   ],
   "source": [
    "tool_stack.run({\"query\": \"LangChain\"})"
   ]
  }
 ],
 "metadata": {
  "kernelspec": {
   "display_name": ".venv",
   "language": "python",
   "name": "python3"
  },
  "language_info": {
   "codemirror_mode": {
    "name": "ipython",
    "version": 3
   },
   "file_extension": ".py",
   "mimetype": "text/x-python",
   "name": "python",
   "nbconvert_exporter": "python",
   "pygments_lexer": "ipython3",
   "version": "3.11.5"
  }
 },
 "nbformat": 4,
 "nbformat_minor": 2
}
