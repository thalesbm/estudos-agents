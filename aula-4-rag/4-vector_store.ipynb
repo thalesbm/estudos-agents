{
 "cells": [
  {
   "cell_type": "code",
   "execution_count": 1,
   "metadata": {},
   "outputs": [],
   "source": [
    "from langchain_community.document_loaders.pdf import PyPDFLoader\n",
    "from langchain_text_splitters import RecursiveCharacterTextSplitter"
   ]
  },
  {
   "cell_type": "code",
   "execution_count": 2,
   "metadata": {},
   "outputs": [],
   "source": [
    "caminho = \"files/apostila.pdf\"\n",
    "loader = PyPDFLoader(caminho)\n",
    "paginas = loader.load()"
   ]
  },
  {
   "cell_type": "code",
   "execution_count": 3,
   "metadata": {},
   "outputs": [
    {
     "data": {
      "text/plain": [
       "28"
      ]
     },
     "execution_count": 3,
     "metadata": {},
     "output_type": "execute_result"
    }
   ],
   "source": [
    "len(paginas)"
   ]
  },
  {
   "cell_type": "code",
   "execution_count": 4,
   "metadata": {},
   "outputs": [
    {
     "data": {
      "text/plain": [
       "99"
      ]
     },
     "execution_count": 4,
     "metadata": {},
     "output_type": "execute_result"
    }
   ],
   "source": [
    "recur_split = RecursiveCharacterTextSplitter(\n",
    "    chunk_size=500,\n",
    "    chunk_overlap=50,\n",
    "    separators=[\"\\n\\n\", \"\\n\", \".\", \" \", \"\"]\n",
    ")\n",
    "documents = recur_split.split_documents(paginas)\n",
    "len(documents)"
   ]
  },
  {
   "cell_type": "code",
   "execution_count": 5,
   "metadata": {},
   "outputs": [],
   "source": [
    "from langchain_openai import OpenAIEmbeddings\n",
    "\n",
    "embedding_model = OpenAIEmbeddings()"
   ]
  },
  {
   "cell_type": "code",
   "execution_count": 6,
   "metadata": {},
   "outputs": [],
   "source": [
    "from langchain_chroma import Chroma\n",
    "\n",
    "diretorio = \"files/chroma_vectorstore\"\n",
    "\n",
    "vector_store = Chroma.from_documents(\n",
    "    documents=documents,\n",
    "    embedding=embedding_model,\n",
    "    persist_directory=diretorio\n",
    ")"
   ]
  },
  {
   "cell_type": "code",
   "execution_count": 7,
   "metadata": {},
   "outputs": [
    {
     "data": {
      "text/plain": [
       "99"
      ]
     },
     "execution_count": 7,
     "metadata": {},
     "output_type": "execute_result"
    }
   ],
   "source": [
    "vector_store._collection.count()"
   ]
  },
  {
   "cell_type": "code",
   "execution_count": 8,
   "metadata": {},
   "outputs": [],
   "source": [
    "vector_store = Chroma(\n",
    "    embedding_function=embedding_model,\n",
    "    persist_directory=diretorio\n",
    ")"
   ]
  },
  {
   "cell_type": "code",
   "execution_count": 9,
   "metadata": {},
   "outputs": [
    {
     "data": {
      "text/plain": [
       "5"
      ]
     },
     "execution_count": 9,
     "metadata": {},
     "output_type": "execute_result"
    }
   ],
   "source": [
    "pergunta = \"Principais métodos para manipulação de strings?\"\n",
    "\n",
    "docs = vector_store.similarity_search(pergunta, k=5)\n",
    "len(docs)"
   ]
  },
  {
   "cell_type": "code",
   "execution_count": 10,
   "metadata": {},
   "outputs": [
    {
     "name": "stdout",
     "output_type": "stream",
     "text": [
      "7 \n",
      " 3.2 Manipulação  de strings  \n",
      " \n",
      "Em Python, existem vária s funções (métodos) para manipular strings .  Na tabela a seguir  são \n",
      "apresentados os principais  métodos para a manipulação  as strings . \n",
      " \n",
      "Tabela 2 - Manipulação  de strings  \n",
      " \n",
      "Méto do  Descrição   Exemplo  \n",
      " \n",
      "len()  Retorna o tamanho d a string . teste = “Apostila de Python”  \n",
      "len(teste)  \n",
      "18 \n",
      " \n",
      "capitalize()  Retorna a string com a  primeira letra maiúscula  a = \"python\"  \n",
      "a.capitalize () \n",
      "'Python'\n",
      "==== {'page': 9, 'source': 'files/apostila.pdf'}\n",
      "\n",
      "3.1 Concatenação d e strings  ................................ ................................ ........................  6 \n",
      "3.2 Manipulação de strings  ................................ ................................ ..........................  7 \n",
      "3.3 Fatiamento de strings  ................................ ................................ ............................  8\n",
      "==== {'page': 1, 'source': 'files/apostila.pdf'}\n",
      "\n",
      "3.4 Exercícios: strings  ................................ ................................ ................................ .. 8 \n",
      "4. NÚMEROS  ................................ ................................ ................................ ...................  9 \n",
      "4.1 Operadores numéricos  ................................ ................................ ..........................  9\n",
      "==== {'page': 1, 'source': 'files/apostila.pdf'}\n",
      "\n",
      "5.1 Funções para manipulação de  listas \n",
      " \n",
      "A lista é uma estrutura mutável , ou seja, ela pode  ser modificada . Na tabela a seguir estão \n",
      "algumas funções utilizadas para  manipular listas .\n",
      "==== {'page': 12, 'source': 'files/apostila.pdf'}\n",
      "\n",
      "_salário  Sim O sublinha ( _ ) é aceito em nomes de variáveis, mesmo no início.  \n",
      "5A Não Nomes de variáveis não podem começar com  números.  \n",
      " \n",
      "3. STRINGS  \n",
      " \n",
      "Uma string é uma sequência de caracteres simples.  Na linguagem Python, as strings são utilizadas \n",
      "com aspas simples ( '... ') ou aspas duplas ( \"...\").  \n",
      " \n",
      "Para exibir uma string , utiliza -se o comando print().  \n",
      "   \n",
      " Exemplo:  \n",
      " \n",
      " \n",
      " \n",
      "3.1 Concatenação de strings  \n",
      " \n",
      "Para c oncatena r strings, utiliza -se o operador +. \n",
      " \n",
      "Exemplo:\n",
      "==== {'page': 8, 'source': 'files/apostila.pdf'}\n",
      "\n"
     ]
    }
   ],
   "source": [
    "for doc in docs:\n",
    "    print(doc.page_content)\n",
    "    print(f\"==== {doc.metadata}\\n\")"
   ]
  }
 ],
 "metadata": {
  "kernelspec": {
   "display_name": ".venv",
   "language": "python",
   "name": "python3"
  },
  "language_info": {
   "codemirror_mode": {
    "name": "ipython",
    "version": 3
   },
   "file_extension": ".py",
   "mimetype": "text/x-python",
   "name": "python",
   "nbconvert_exporter": "python",
   "pygments_lexer": "ipython3",
   "version": "3.11.5"
  }
 },
 "nbformat": 4,
 "nbformat_minor": 2
}
